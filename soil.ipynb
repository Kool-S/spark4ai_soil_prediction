{
 "cells": [
  {
   "cell_type": "markdown",
   "id": "0a0a0c2d",
   "metadata": {},
   "source": [
    "import pandas as pd\n",
    "\n",
    "#### Load train and test datasets\n",
    "train_data = pd.read_csv('train.csv')\n",
    "test_data = pd.read_csv('test.csv')\n",
    "\n",
    "#### Check data structure and columns\n",
    "print(train_data.head())\n",
    "print(test_data.head())\n",
    "print(train_data.info())\n",
    "print(test_data.info()) "
   ]
  },
  {
   "cell_type": "code",
   "execution_count": 2,
   "id": "28f18afb",
   "metadata": {},
   "outputs": [],
   "source": [
    "from sklearn.impute import SimpleImputer\n",
    "\n",
    "# Handling missing values in train and test datasets\n",
    "imputer = SimpleImputer(strategy='mean')\n",
    "\n",
    "# Fill missing values in sensor data (A-P) and spectral reflectance data (350nm-2500nm)\n",
    "sensor_columns = train_data.columns[7:]  # Columns from 'A' to '2500nm'\n",
    "train_data[sensor_columns] = imputer.fit_transform(train_data[sensor_columns])\n",
    "test_data[sensor_columns] = imputer.transform(test_data[sensor_columns])"
   ]
  },
  {
   "cell_type": "code",
   "execution_count": 3,
   "id": "e4dd7554",
   "metadata": {},
   "outputs": [
    {
     "name": "stdout",
     "output_type": "stream",
     "text": [
      "Id            0\n",
      "Property_A    0\n",
      "Property_B    0\n",
      "Property_C    0\n",
      "Property_D    0\n",
      "             ..\n",
      "2496 nm       0\n",
      "2497 nm       0\n",
      "2498 nm       0\n",
      "2499 nm       0\n",
      "2500 nm       0\n",
      "Length: 2174, dtype: int64\n"
     ]
    }
   ],
   "source": [
    "missing_values = train_data.isnull().sum()\n",
    "print(missing_values)"
   ]
  },
  {
   "cell_type": "code",
   "execution_count": 4,
   "id": "a5a12b68",
   "metadata": {},
   "outputs": [],
   "source": [
    "sensor1_cols = train_data.columns[7:23]  # Columns 'A' to 'P'\n",
    "\n",
    "X_train = train_data[sensor1_cols].copy()\n",
    "X_test = test_data[sensor1_cols].copy()\n",
    "\n",
    "X_train = pd.concat([X_train, train_data.iloc[:, 23:]], axis=1)\n",
    "X_test = pd.concat([X_test, test_data.iloc[:, 23:]], axis=1)"
   ]
  },
  {
   "cell_type": "code",
   "execution_count": 5,
   "id": "4179395a",
   "metadata": {},
   "outputs": [
    {
     "name": "stdout",
     "output_type": "stream",
     "text": [
      "Index(['Id', 'Property_A', 'Property_B', 'Property_C', 'Property_D',\n",
      "       'Property_E', 'Property_F', 'A ', 'B', 'C',\n",
      "       ...\n",
      "       '2491 nm', '2492 nm', '2493 nm', '2494 nm', '2495 nm', '2496 nm',\n",
      "       '2497 nm', '2498 nm', '2499 nm', '2500 nm'],\n",
      "      dtype='object', length=2174)\n"
     ]
    }
   ],
   "source": [
    "print(train_data.columns)"
   ]
  },
  {
   "cell_type": "code",
   "execution_count": 6,
   "id": "c731a469",
   "metadata": {},
   "outputs": [
    {
     "name": "stdout",
     "output_type": "stream",
     "text": [
      "Index(['A ', 'B', 'C', 'D', 'E', 'F', 'G', 'H', 'I', 'J',\n",
      "       ...\n",
      "       '2491 nm', '2492 nm', '2493 nm', '2494 nm', '2495 nm', '2496 nm',\n",
      "       '2497 nm', '2498 nm', '2499 nm', '2500 nm'],\n",
      "      dtype='object', length=2161)\n"
     ]
    }
   ],
   "source": [
    "print(X_test.columns)"
   ]
  },
  {
   "cell_type": "code",
   "execution_count": 7,
   "id": "afe30d41",
   "metadata": {},
   "outputs": [
    {
     "data": {
      "text/plain": [
       "Index(['A ', 'B', 'C', 'D', 'E', 'F', 'G', 'H', 'I', 'J', 'K', 'L', 'M', 'N',\n",
       "       'O', 'P'],\n",
       "      dtype='object')"
      ]
     },
     "execution_count": 7,
     "metadata": {},
     "output_type": "execute_result"
    }
   ],
   "source": [
    "sensor1_cols"
   ]
  },
  {
   "cell_type": "code",
   "execution_count": 8,
   "id": "b8878eb1",
   "metadata": {},
   "outputs": [
    {
     "name": "stdout",
     "output_type": "stream",
     "text": [
      "RMSE: 4.401839050366957\n"
     ]
    }
   ],
   "source": [
    "from sklearn.model_selection import train_test_split\n",
    "from sklearn.metrics import mean_squared_error\n",
    "from xgboost import XGBRegressor\n",
    "\n",
    "# Splitting the train dataset for model evaluation\n",
    "y_train = train_data.iloc[:, 1:7]  # Target columns\n",
    "\n",
    "X_train_split, X_val, y_train_split, y_val = train_test_split(X_train, y_train, test_size=0.3, random_state=42)\n",
    "\n",
    "# Model initialization and training\n",
    "model = XGBRegressor()  # Initialize XGBoost regressor\n",
    "model.fit(X_train_split, y_train_split)\n",
    "\n",
    "# Model evaluation\n",
    "predictions = model.predict(X_val)\n",
    "rmse = mean_squared_error(y_val, predictions, squared=False)  # Calculate RMSE\n",
    "print(f\"RMSE: {rmse}\")"
   ]
  },
  {
   "cell_type": "code",
   "execution_count": 9,
   "id": "833996ab",
   "metadata": {},
   "outputs": [
    {
     "name": "stdout",
     "output_type": "stream",
     "text": [
      "Requirement already satisfied: xgboost in c:\\users\\shristi\\anaconda3\\lib\\site-packages (2.0.2)\n",
      "Requirement already satisfied: numpy in c:\\users\\shristi\\anaconda3\\lib\\site-packages (from xgboost) (1.21.5)\n",
      "Requirement already satisfied: scipy in c:\\users\\shristi\\anaconda3\\lib\\site-packages (from xgboost) (1.7.3)\n",
      "Note: you may need to restart the kernel to use updated packages.\n"
     ]
    }
   ],
   "source": [
    "#pip install xgboost"
   ]
  },
  {
   "cell_type": "code",
   "execution_count": 9,
   "id": "01c16efc",
   "metadata": {},
   "outputs": [
    {
     "name": "stdout",
     "output_type": "stream",
     "text": [
      "RMSE: 0.0006237929787845799\n"
     ]
    }
   ],
   "source": [
    "predictions = model.predict(X_train_split)\n",
    "rmse = mean_squared_error(y_train_split, predictions, squared=False)  # Calculate RMSE\n",
    "print(f\"RMSE: {rmse}\")"
   ]
  },
  {
   "cell_type": "code",
   "execution_count": null,
   "id": "94684426",
   "metadata": {},
   "outputs": [],
   "source": [
    "from sklearn.model_selection import GridSearchCV\n",
    "from xgboost import XGBRegressor\n",
    "from sklearn.model_selection import train_test_split\n",
    "\n",
    "# Load sample dataset (replace this with your data)\n",
    "\n",
    "X = X_train\n",
    "y = y_train\n",
    "\n",
    "# Split dataset into training and testing sets\n",
    "X_train, X_test, y_train, y_test = train_test_split(X, y, test_size=0.3, random_state=42)\n",
    "\n",
    "# Define the parameter grid to search through\n",
    "param_grid = {\n",
    "    'max_depth':[3,4,5],\n",
    "    'learning_rate': [0.1,0.01,0.001],\n",
    "    'n_estimators': [100,300,500],\n",
    "    'gamma': [0, 0.1,0.3],\n",
    "    'subsample': [0.8,0.9,1],\n",
    "    'colsample_bytree': [0.8,0.9,1]\n",
    "}\n",
    "\n",
    "# Initialize XGBRegressor\n",
    "xgb = XGBRegressor()\n",
    "\n",
    "# GridSearchCV with the defined parameter grid\n",
    "grid_search = GridSearchCV(estimator=xgb, param_grid=param_grid, scoring='neg_mean_squared_error', cv=3, verbose=1, n_jobs=-1)\n",
    "\n",
    "# Fit the grid search to the data\n",
    "grid_search.fit(X_train, y_train)\n",
    "\n",
    "# Get the best parameters and best negative mean squared error\n",
    "best_params = grid_search.best_params_\n",
    "best_neg_mse = grid_search.best_score_\n",
    "\n",
    "print(\"Best Parameters:\", best_params)\n",
    "print(\"Best Negative MSE:\", best_neg_mse)"
   ]
  },
  {
   "cell_type": "code",
   "execution_count": null,
   "id": "29c5ee86",
   "metadata": {},
   "outputs": [],
   "source": []
  },
  {
   "cell_type": "code",
   "execution_count": null,
   "id": "40c75f80",
   "metadata": {},
   "outputs": [],
   "source": []
  }
 ],
 "metadata": {
  "kernelspec": {
   "display_name": "Python 3 (ipykernel)",
   "language": "python",
   "name": "python3"
  },
  "language_info": {
   "codemirror_mode": {
    "name": "ipython",
    "version": 3
   },
   "file_extension": ".py",
   "mimetype": "text/x-python",
   "name": "python",
   "nbconvert_exporter": "python",
   "pygments_lexer": "ipython3",
   "version": "3.9.12"
  }
 },
 "nbformat": 4,
 "nbformat_minor": 5
}
